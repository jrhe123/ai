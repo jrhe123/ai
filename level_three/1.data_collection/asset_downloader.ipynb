{
 "cells": [
  {
   "cell_type": "markdown",
   "metadata": {},
   "source": [
    "## Image downloader & dependencies\n",
    "\n",
    "- https://github.com/QianyanTech/Image-Downloader\n",
    "- https://stackoverflow.com/questions/70961915/error-while-installing-pytq5-with-pip-preparing-metadata-pyproject-toml-did-n\n",
    "\n",
    "==============\n",
    "\n",
    "- brew install qt5\n",
    "- python3 -m pip install PyQt5\n",
    "- python3 -m pip install chromedriver_autoinstaller\n",
    "- python3 -m pip install selenium\n",
    "- python3 -m pip install requests"
   ]
  },
  {
   "cell_type": "markdown",
   "metadata": {},
   "source": [
    "### Run the app\n",
    "- python3 Image-Downloader/image_downloader_gui.py"
   ]
  },
  {
   "cell_type": "markdown",
   "metadata": {},
   "source": [
    "## Video downloader\n",
    "- https://github.com/iawia002/lux\n",
    "- brew install lux\n",
    "\n",
    "### Run the app\n",
    "lux 'https://www.bilibili.com/video/BV1b4411n7N8'"
   ]
  }
 ],
 "metadata": {
  "language_info": {
   "name": "python"
  }
 },
 "nbformat": 4,
 "nbformat_minor": 2
}
