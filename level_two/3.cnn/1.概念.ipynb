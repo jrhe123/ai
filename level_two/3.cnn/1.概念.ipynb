{
 "cells": [
  {
   "cell_type": "markdown",
   "metadata": {},
   "source": [
    "1. kernel 卷积核\n",
    "2. padding 填充\n",
    "3. stride 步长\n",
    "4. feature map 特征图 (图片的3通道)\n",
    "5. pooling 池化 (下采样: 最大池化， 平均池化)\n",
    "6. receptive field 感受野"
   ]
  }
 ],
 "metadata": {
  "language_info": {
   "name": "python"
  }
 },
 "nbformat": 4,
 "nbformat_minor": 2
}
